{
 "cells": [
  {
   "cell_type": "code",
   "execution_count": 1,
   "id": "552d5184-f98e-4f79-9508-6ebbb1c4351a",
   "metadata": {},
   "outputs": [],
   "source": [
    "import csv\n",
    "import numpy as numpy\n",
    "import pandas as pd\n",
    "import mysql.connector"
   ]
  },
  {
   "cell_type": "code",
   "execution_count": 2,
   "id": "da3771b3-3348-4938-8644-e98eb776caba",
   "metadata": {},
   "outputs": [],
   "source": [
    "db=mysql.connector.connect(host='127.0.0.7',\n",
    "\tuser='pyguy',\n",
    "\tpasswd='Password1234!',\n",
    "\tdatabase='reportcovid'\n",
    "\t)"
   ]
  },
  {
   "cell_type": "code",
   "execution_count": 3,
   "id": "87cda495-4cfa-49a4-aabc-5f434dbf32de",
   "metadata": {},
   "outputs": [],
   "source": [
    "cursor = db.cursor()"
   ]
  },
  {
   "cell_type": "code",
   "execution_count": 5,
   "id": "c93c5717-a53c-4e24-b2d8-927bfa5f32b9",
   "metadata": {},
   "outputs": [
    {
     "name": "stdout",
     "output_type": "stream",
     "text": [
      "Done\n"
     ]
    }
   ],
   "source": [
    "csv_file_path = 'cases_deaths.csv'\n",
    "with open(csv_file_path, mode='r') as csvfile:\n",
    "    reader = csv.reader(csvfile)\n",
    "    next(reader)  # Skip the header row\n",
    "    for row in reader:\n",
    "        cursor.execute(\"INSERT INTO cases_deaths (country, date, new_cases, new_deaths) VALUES (%s, %s, %s, %s)\", row)\n",
    "\n",
    "db.commit()\n",
    "cursor.close()\n",
    "print(\"Done\")"
   ]
  },
  {
   "cell_type": "code",
   "execution_count": null,
   "id": "9ce82b08-5223-4eb9-8cb0-6ce1af161ee0",
   "metadata": {},
   "outputs": [],
   "source": [
    "mydb = MySQLdb.connect(host='localhost',\n",
    "    user='root',\n",
    "    passwd='',\n",
    "    db='mydb')\n",
    "cursor = mydb.cursor()\n",
    "\n",
    "csv_data = csv.reader(file('students.csv'))\n",
    "for row in csv_data:\n",
    "\n",
    "    cursor.execute('INSERT INTO testcsv(names, \\\n",
    "          classes, mark )' \\\n",
    "          'VALUES(\"%s\", \"%s\", \"%s\")', \n",
    "          row)\n",
    "#close the connection to the database.\n"
   ]
  }
 ],
 "metadata": {
  "kernelspec": {
   "display_name": "Python 3 (ipykernel)",
   "language": "python",
   "name": "python3"
  },
  "language_info": {
   "codemirror_mode": {
    "name": "ipython",
    "version": 3
   },
   "file_extension": ".py",
   "mimetype": "text/x-python",
   "name": "python",
   "nbconvert_exporter": "python",
   "pygments_lexer": "ipython3",
   "version": "3.12.3"
  }
 },
 "nbformat": 4,
 "nbformat_minor": 5
}
